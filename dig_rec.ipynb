{
 "cells": [
  {
   "cell_type": "code",
   "execution_count": 1,
   "metadata": {},
   "outputs": [
    {
     "name": "stderr",
     "output_type": "stream",
     "text": [
      "Using TensorFlow backend.\n"
     ]
    }
   ],
   "source": [
    "from keras.datasets import mnist\n",
    "import matplotlib.pyplot as plt\n",
    "import tensorflow as tf\n",
    "from keras.callbacks import EarlyStopping"
   ]
  },
  {
   "cell_type": "code",
   "execution_count": 2,
   "metadata": {},
   "outputs": [],
   "source": [
    "(X_train, y_train), (X_test, y_test) = mnist.load_data()        #Load the data"
   ]
  },
  {
   "cell_type": "code",
   "execution_count": 3,
   "metadata": {},
   "outputs": [],
   "source": [
    "X_train = X_train / 255                             #Normalization - greyscale images contain 255 pixels(speeds up the process)\n",
    "X_test = X_test / 255       "
   ]
  },
  {
   "cell_type": "code",
   "execution_count": 4,
   "metadata": {},
   "outputs": [],
   "source": [
    "early_stopping_monitor = EarlyStopping(patience=3)"
   ]
  },
  {
   "cell_type": "code",
   "execution_count": 6,
   "metadata": {},
   "outputs": [
    {
     "name": "stdout",
     "output_type": "stream",
     "text": [
      "Epoch 1/15\n",
      "60000/60000 [==============================] - 10s 159us/step - loss: 0.2568 - acc: 0.9271\n",
      "Epoch 2/15\n",
      " 1536/60000 [..............................] - ETA: 6s - loss: 0.1256 - acc: 0.9661"
     ]
    },
    {
     "name": "stderr",
     "output_type": "stream",
     "text": [
      "C:\\Users\\Dell\\Anaconda3\\envs\\tensorenviron\\lib\\site-packages\\keras\\callbacks.py:569: RuntimeWarning: Early stopping conditioned on metric `val_loss` which is not available. Available metrics are: loss,acc\n",
      "  (self.monitor, ','.join(list(logs.keys()))), RuntimeWarning\n"
     ]
    },
    {
     "name": "stdout",
     "output_type": "stream",
     "text": [
      "60000/60000 [==============================] - 6s 100us/step - loss: 0.1178 - acc: 0.9651\n",
      "Epoch 3/15\n",
      "60000/60000 [==============================] - 5s 89us/step - loss: 0.0801 - acc: 0.9758\n",
      "Epoch 4/15\n",
      "60000/60000 [==============================] - 5s 90us/step - loss: 0.0591 - acc: 0.9818\n",
      "Epoch 5/15\n",
      "60000/60000 [==============================] - 6s 96us/step - loss: 0.0462 - acc: 0.9856\n",
      "Epoch 6/15\n",
      "60000/60000 [==============================] - 5s 90us/step - loss: 0.0364 - acc: 0.9885\n",
      "Epoch 7/15\n",
      "60000/60000 [==============================] - 5s 91us/step - loss: 0.0291 - acc: 0.9913\n",
      "Epoch 8/15\n",
      "60000/60000 [==============================] - 6s 97us/step - loss: 0.0234 - acc: 0.9923\n",
      "Epoch 9/15\n",
      "60000/60000 [==============================] - 5s 90us/step - loss: 0.0187 - acc: 0.9945\n",
      "Epoch 10/15\n",
      "60000/60000 [==============================] - 5s 90us/step - loss: 0.0160 - acc: 0.9949\n",
      "Epoch 11/15\n",
      "60000/60000 [==============================] - 6s 101us/step - loss: 0.0135 - acc: 0.9958\n",
      "Epoch 12/15\n",
      "60000/60000 [==============================] - 6s 95us/step - loss: 0.0128 - acc: 0.9956\n",
      "Epoch 13/15\n",
      "60000/60000 [==============================] - 6s 92us/step - loss: 0.0096 - acc: 0.9972\n",
      "Epoch 14/15\n",
      "60000/60000 [==============================] - 6s 101us/step - loss: 0.0095 - acc: 0.9969\n",
      "Epoch 15/15\n",
      "60000/60000 [==============================] - 6s 92us/step - loss: 0.0075 - acc: 0.9977\n"
     ]
    },
    {
     "data": {
      "text/plain": [
       "<tensorflow.python.keras.callbacks.History at 0x1ebc9307898>"
      ]
     },
     "execution_count": 6,
     "metadata": {},
     "output_type": "execute_result"
    }
   ],
   "source": [
    "model = tf.keras.Sequential(                                              #Sequential layers\n",
    "    [tf.keras.layers.Flatten(input_shape=(28, 28)),\n",
    "    tf.keras.layers.Dense(128, activation=\"relu\"),\n",
    "    tf.keras.layers.Dense(10, activation=\"softmax\")])  \n",
    "\n",
    "model.compile(optimizer = \"adam\", loss=\"sparse_categorical_crossentropy\", metrics = [\"accuracy\"])\n",
    "model.fit(X_train, y_train, epochs = 15, callbacks = [early_stopping_monitor])"
   ]
  },
  {
   "cell_type": "code",
   "execution_count": 7,
   "metadata": {},
   "outputs": [
    {
     "name": "stdout",
     "output_type": "stream",
     "text": [
      "10000/10000 [==============================] - 0s 37us/step\n"
     ]
    },
    {
     "data": {
      "text/plain": [
       "[0.08708133410687806, 0.98]"
      ]
     },
     "execution_count": 7,
     "metadata": {},
     "output_type": "execute_result"
    }
   ],
   "source": [
    "model.evaluate(x = X_test, y = y_test , verbose = 1)"
   ]
  },
  {
   "cell_type": "code",
   "execution_count": 8,
   "metadata": {},
   "outputs": [
    {
     "data": {
      "text/plain": [
       "['loss', 'acc']"
      ]
     },
     "execution_count": 8,
     "metadata": {},
     "output_type": "execute_result"
    }
   ],
   "source": [
    "model.metrics_names"
   ]
  },
  {
   "cell_type": "code",
   "execution_count": null,
   "metadata": {},
   "outputs": [],
   "source": []
  }
 ],
 "metadata": {
  "kernelspec": {
   "display_name": "Python 3",
   "language": "python",
   "name": "python3"
  },
  "language_info": {
   "codemirror_mode": {
    "name": "ipython",
    "version": 3
   },
   "file_extension": ".py",
   "mimetype": "text/x-python",
   "name": "python",
   "nbconvert_exporter": "python",
   "pygments_lexer": "ipython3",
   "version": "3.6.8"
  }
 },
 "nbformat": 4,
 "nbformat_minor": 2
}
